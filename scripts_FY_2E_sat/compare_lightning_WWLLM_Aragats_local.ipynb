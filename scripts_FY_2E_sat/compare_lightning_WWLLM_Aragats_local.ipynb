{
 "cells": [
  {
   "cell_type": "code",
   "execution_count": 2,
   "metadata": {},
   "outputs": [],
   "source": [
    "import numpy as np\n",
    "import pandas as pd"
   ]
  },
  {
   "cell_type": "code",
   "execution_count": 18,
   "metadata": {},
   "outputs": [],
   "source": [
    "#df = pd.read_parquet('F:/2024_Lightning_Analysis/FY-2E_data/data_extracted\\\\around_station_small.parquet')\n",
    "#df = pd.read_parquet('F:/2024_Lightning_Analysis/FY-2E_data/data_extracted\\\\2018_part_0_small_ALL_data_with_lightning.parquet')\n",
    "df = pd.read_parquet('F:/2024_Lightning_Analysis/FY-2E_data/data_extracted\\\\around_station_2018_part_3_of_6_small.parquet')"
   ]
  },
  {
   "cell_type": "code",
   "execution_count": 19,
   "metadata": {},
   "outputs": [
    {
     "name": "stdout",
     "output_type": "stream",
     "text": [
      "(1664, 27)\n"
     ]
    }
   ],
   "source": [
    "print(df.shape)"
   ]
  },
  {
   "cell_type": "code",
   "execution_count": 5,
   "metadata": {},
   "outputs": [
    {
     "data": {
      "text/html": [
       "<div>\n",
       "<style scoped>\n",
       "    .dataframe tbody tr th:only-of-type {\n",
       "        vertical-align: middle;\n",
       "    }\n",
       "\n",
       "    .dataframe tbody tr th {\n",
       "        vertical-align: top;\n",
       "    }\n",
       "\n",
       "    .dataframe thead th {\n",
       "        text-align: right;\n",
       "    }\n",
       "</style>\n",
       "<table border=\"1\" class=\"dataframe\">\n",
       "  <thead>\n",
       "    <tr style=\"text-align: right;\">\n",
       "      <th></th>\n",
       "      <th>File_Name</th>\n",
       "      <th>Cloud_Number</th>\n",
       "      <th>Area</th>\n",
       "      <th>Center_lonlat_1</th>\n",
       "      <th>Center_lonlat_2</th>\n",
       "      <th>Eccentricity</th>\n",
       "      <th>Orientation</th>\n",
       "      <th>TBBmax</th>\n",
       "      <th>TBBmean</th>\n",
       "      <th>TBBmedian</th>\n",
       "      <th>...</th>\n",
       "      <th>Minute</th>\n",
       "      <th>Second</th>\n",
       "      <th>Latitude</th>\n",
       "      <th>Longitude</th>\n",
       "      <th>Error of location</th>\n",
       "      <th>Number of discharges</th>\n",
       "      <th>Number of day</th>\n",
       "      <th>Lightning is in cloud</th>\n",
       "      <th>Lightning is in ellipse</th>\n",
       "      <th>TBB near lightning</th>\n",
       "    </tr>\n",
       "  </thead>\n",
       "  <tbody>\n",
       "    <tr>\n",
       "      <th>0</th>\n",
       "      <td>20180101_0230</td>\n",
       "      <td>106</td>\n",
       "      <td>427.332532</td>\n",
       "      <td>43.244087</td>\n",
       "      <td>35.702950</td>\n",
       "      <td>0.730052</td>\n",
       "      <td>-15.513780</td>\n",
       "      <td>-32.508007</td>\n",
       "      <td>-33.519859</td>\n",
       "      <td>-33.721004</td>\n",
       "      <td>...</td>\n",
       "      <td>21.0</td>\n",
       "      <td>37.986630</td>\n",
       "      <td>35.6486</td>\n",
       "      <td>43.3225</td>\n",
       "      <td>7.5</td>\n",
       "      <td>5.0</td>\n",
       "      <td>737061.098356</td>\n",
       "      <td>0.0</td>\n",
       "      <td>1.0</td>\n",
       "      <td>-32.906994</td>\n",
       "    </tr>\n",
       "    <tr>\n",
       "      <th>1</th>\n",
       "      <td>20180101_0230</td>\n",
       "      <td>106</td>\n",
       "      <td>427.332532</td>\n",
       "      <td>43.244087</td>\n",
       "      <td>35.702950</td>\n",
       "      <td>0.730052</td>\n",
       "      <td>-15.513780</td>\n",
       "      <td>-32.508007</td>\n",
       "      <td>-33.519859</td>\n",
       "      <td>-33.721004</td>\n",
       "      <td>...</td>\n",
       "      <td>23.0</td>\n",
       "      <td>37.389205</td>\n",
       "      <td>35.6738</td>\n",
       "      <td>43.3872</td>\n",
       "      <td>20.3</td>\n",
       "      <td>11.0</td>\n",
       "      <td>737061.099738</td>\n",
       "      <td>0.0</td>\n",
       "      <td>1.0</td>\n",
       "      <td>-33.313000</td>\n",
       "    </tr>\n",
       "    <tr>\n",
       "      <th>2</th>\n",
       "      <td>20180101_0230</td>\n",
       "      <td>106</td>\n",
       "      <td>427.332532</td>\n",
       "      <td>43.244087</td>\n",
       "      <td>35.702950</td>\n",
       "      <td>0.730052</td>\n",
       "      <td>-15.513780</td>\n",
       "      <td>-32.508007</td>\n",
       "      <td>-33.519859</td>\n",
       "      <td>-33.721004</td>\n",
       "      <td>...</td>\n",
       "      <td>46.0</td>\n",
       "      <td>21.566376</td>\n",
       "      <td>35.6806</td>\n",
       "      <td>43.2386</td>\n",
       "      <td>5.8</td>\n",
       "      <td>7.0</td>\n",
       "      <td>737061.115527</td>\n",
       "      <td>1.0</td>\n",
       "      <td>1.0</td>\n",
       "      <td>-34.132000</td>\n",
       "    </tr>\n",
       "    <tr>\n",
       "      <th>3</th>\n",
       "      <td>20180101_0830</td>\n",
       "      <td>686</td>\n",
       "      <td>3225.034520</td>\n",
       "      <td>44.632042</td>\n",
       "      <td>35.538177</td>\n",
       "      <td>0.859746</td>\n",
       "      <td>-76.105774</td>\n",
       "      <td>-32.074001</td>\n",
       "      <td>-33.479031</td>\n",
       "      <td>-33.275997</td>\n",
       "      <td>...</td>\n",
       "      <td>6.0</td>\n",
       "      <td>4.863414</td>\n",
       "      <td>35.1790</td>\n",
       "      <td>44.5260</td>\n",
       "      <td>7.5</td>\n",
       "      <td>6.0</td>\n",
       "      <td>737061.337556</td>\n",
       "      <td>0.0</td>\n",
       "      <td>1.0</td>\n",
       "      <td>-32.870998</td>\n",
       "    </tr>\n",
       "    <tr>\n",
       "      <th>4</th>\n",
       "      <td>20180101_0830</td>\n",
       "      <td>686</td>\n",
       "      <td>3225.034520</td>\n",
       "      <td>44.632042</td>\n",
       "      <td>35.538177</td>\n",
       "      <td>0.859746</td>\n",
       "      <td>-76.105774</td>\n",
       "      <td>-32.074001</td>\n",
       "      <td>-33.479031</td>\n",
       "      <td>-33.275997</td>\n",
       "      <td>...</td>\n",
       "      <td>7.0</td>\n",
       "      <td>24.838277</td>\n",
       "      <td>35.2499</td>\n",
       "      <td>44.5339</td>\n",
       "      <td>13.6</td>\n",
       "      <td>6.0</td>\n",
       "      <td>737061.338482</td>\n",
       "      <td>1.0</td>\n",
       "      <td>1.0</td>\n",
       "      <td>-34.096004</td>\n",
       "    </tr>\n",
       "    <tr>\n",
       "      <th>5</th>\n",
       "      <td>20180101_0830</td>\n",
       "      <td>686</td>\n",
       "      <td>3225.034520</td>\n",
       "      <td>44.632042</td>\n",
       "      <td>35.538177</td>\n",
       "      <td>0.859746</td>\n",
       "      <td>-76.105774</td>\n",
       "      <td>-32.074001</td>\n",
       "      <td>-33.479031</td>\n",
       "      <td>-33.275997</td>\n",
       "      <td>...</td>\n",
       "      <td>7.0</td>\n",
       "      <td>24.838277</td>\n",
       "      <td>35.2789</td>\n",
       "      <td>44.5393</td>\n",
       "      <td>7.3</td>\n",
       "      <td>5.0</td>\n",
       "      <td>737061.338482</td>\n",
       "      <td>1.0</td>\n",
       "      <td>1.0</td>\n",
       "      <td>-35.130001</td>\n",
       "    </tr>\n",
       "  </tbody>\n",
       "</table>\n",
       "<p>6 rows × 25 columns</p>\n",
       "</div>"
      ],
      "text/plain": [
       "       File_Name  Cloud_Number         Area  Center_lonlat_1  Center_lonlat_2  \\\n",
       "0  20180101_0230           106   427.332532        43.244087        35.702950   \n",
       "1  20180101_0230           106   427.332532        43.244087        35.702950   \n",
       "2  20180101_0230           106   427.332532        43.244087        35.702950   \n",
       "3  20180101_0830           686  3225.034520        44.632042        35.538177   \n",
       "4  20180101_0830           686  3225.034520        44.632042        35.538177   \n",
       "5  20180101_0830           686  3225.034520        44.632042        35.538177   \n",
       "\n",
       "   Eccentricity  Orientation     TBBmax    TBBmean  TBBmedian  ...  Minute  \\\n",
       "0      0.730052   -15.513780 -32.508007 -33.519859 -33.721004  ...    21.0   \n",
       "1      0.730052   -15.513780 -32.508007 -33.519859 -33.721004  ...    23.0   \n",
       "2      0.730052   -15.513780 -32.508007 -33.519859 -33.721004  ...    46.0   \n",
       "3      0.859746   -76.105774 -32.074001 -33.479031 -33.275997  ...     6.0   \n",
       "4      0.859746   -76.105774 -32.074001 -33.479031 -33.275997  ...     7.0   \n",
       "5      0.859746   -76.105774 -32.074001 -33.479031 -33.275997  ...     7.0   \n",
       "\n",
       "      Second  Latitude  Longitude  Error of location  Number of discharges  \\\n",
       "0  37.986630   35.6486    43.3225                7.5                   5.0   \n",
       "1  37.389205   35.6738    43.3872               20.3                  11.0   \n",
       "2  21.566376   35.6806    43.2386                5.8                   7.0   \n",
       "3   4.863414   35.1790    44.5260                7.5                   6.0   \n",
       "4  24.838277   35.2499    44.5339               13.6                   6.0   \n",
       "5  24.838277   35.2789    44.5393                7.3                   5.0   \n",
       "\n",
       "   Number of day  Lightning is in cloud  Lightning is in ellipse  \\\n",
       "0  737061.098356                    0.0                      1.0   \n",
       "1  737061.099738                    0.0                      1.0   \n",
       "2  737061.115527                    1.0                      1.0   \n",
       "3  737061.337556                    0.0                      1.0   \n",
       "4  737061.338482                    1.0                      1.0   \n",
       "5  737061.338482                    1.0                      1.0   \n",
       "\n",
       "   TBB near lightning  \n",
       "0          -32.906994  \n",
       "1          -33.313000  \n",
       "2          -34.132000  \n",
       "3          -32.870998  \n",
       "4          -34.096004  \n",
       "5          -35.130001  \n",
       "\n",
       "[6 rows x 25 columns]"
      ]
     },
     "execution_count": 5,
     "metadata": {},
     "output_type": "execute_result"
    }
   ],
   "source": [
    "df.head(6)"
   ]
  },
  {
   "cell_type": "code",
   "execution_count": 6,
   "metadata": {},
   "outputs": [
    {
     "name": "stdout",
     "output_type": "stream",
     "text": [
      "Index(['File_Name', 'Cloud_Number', 'Area', 'Center_lonlat_1',\n",
      "       'Center_lonlat_2', 'Eccentricity', 'Orientation', 'TBBmax', 'TBBmean',\n",
      "       'TBBmedian', 'TBBmin', 'Year', 'Month', 'Day', 'Hour', 'Minute',\n",
      "       'Second', 'Latitude', 'Longitude', 'Error of location',\n",
      "       'Number of discharges', 'Number of day', 'Lightning is in cloud',\n",
      "       'Lightning is in ellipse', 'TBB near lightning'],\n",
      "      dtype='object')\n"
     ]
    }
   ],
   "source": [
    "print(df.columns)"
   ]
  },
  {
   "cell_type": "markdown",
   "metadata": {},
   "source": [
    "## Number of discharges per minute, by WWLLN"
   ]
  },
  {
   "cell_type": "code",
   "execution_count": 10,
   "metadata": {},
   "outputs": [
    {
     "name": "stdout",
     "output_type": "stream",
     "text": [
      "       Minute_Timestamp  Discharge_Count\n",
      "0   2018-01-01 02:21:00                1\n",
      "1   2018-01-01 02:23:00                1\n",
      "2   2018-01-01 02:46:00                1\n",
      "3   2018-01-01 08:06:00                1\n",
      "4   2018-01-01 08:07:00                2\n",
      "..                  ...              ...\n",
      "357 2018-01-01 22:18:00                3\n",
      "358 2018-01-01 22:26:00                1\n",
      "359 2018-01-01 23:06:00                2\n",
      "360 2018-01-01 23:10:00                1\n",
      "361 2018-01-02 01:22:00                1\n",
      "\n",
      "[362 rows x 2 columns]\n"
     ]
    }
   ],
   "source": [
    "import pandas as pd\n",
    "\n",
    "# Assuming df is already loaded\n",
    "# Convert time-related columns to integer values\n",
    "df[['Year', 'Month', 'Day', 'Hour', 'Minute', 'Second']] = df[['Year', 'Month', 'Day', 'Hour', 'Minute', 'Second']].astype(int)\n",
    "\n",
    "# Create a full datetime column from these components\n",
    "df['Timestamp'] = pd.to_datetime(\n",
    "    df[['Year', 'Month', 'Day', 'Hour', 'Minute', 'Second']]\n",
    ")\n",
    "\n",
    "# Aggregate by minute by flooring the timestamp to the nearest minute\n",
    "df['Minute_Timestamp'] = df['Timestamp'].dt.floor('T')  # 'T' for minute\n",
    "\n",
    "# Count the number of discharges for each minute\n",
    "minute_discharge_counts = df.groupby('Minute_Timestamp').size().reset_index(name='Discharge_Count')\n",
    "\n",
    "# Print the table\n",
    "print(minute_discharge_counts)\n",
    "\n"
   ]
  },
  {
   "cell_type": "markdown",
   "metadata": {},
   "source": [
    "## Number of discharges per minute, by Lightning Detector (2) (local system)"
   ]
  },
  {
   "cell_type": "code",
   "execution_count": 11,
   "metadata": {},
   "outputs": [],
   "source": [
    "df_csv = pd.read_csv('F:/2024_Lightning_Analysis/Aragats_measurements/2018/2018_Lightning_Detector_1_5_km.csv')"
   ]
  },
  {
   "cell_type": "code",
   "execution_count": 13,
   "metadata": {},
   "outputs": [
    {
     "data": {
      "text/plain": [
       "Index(['Date/Time', ' CG+  Radius 5 km', ' CG-  Radius 5 km',\n",
       "       ' IC+  Radius 5 km', ' IC-  Radius 5 km', 'Timestamp',\n",
       "       'Minute_Timestamp'],\n",
       "      dtype='object')"
      ]
     },
     "execution_count": 13,
     "metadata": {},
     "output_type": "execute_result"
    }
   ],
   "source": [
    "df_csv.columns"
   ]
  },
  {
   "cell_type": "markdown",
   "metadata": {},
   "source": [
    "### Table \"minute - Number of discharges\" for Lightning Detector (2) csv"
   ]
  },
  {
   "cell_type": "code",
   "execution_count": 15,
   "metadata": {},
   "outputs": [
    {
     "name": "stdout",
     "output_type": "stream",
     "text": [
      "Parquet Data (Minute - Number of Discharges):\n",
      "\n",
      "CSV Data (Minute - Number of Discharges):\n",
      "         Minute_Timestamp  Discharge_Count\n",
      "0     2018-01-01 19:51:00                0\n",
      "1     2018-01-01 19:52:00                0\n",
      "2     2018-01-01 21:39:00                0\n",
      "3     2018-01-01 23:04:00                0\n",
      "4     2018-01-02 09:58:00                0\n",
      "...                   ...              ...\n",
      "23758 2018-12-27 23:12:00                0\n",
      "23759 2018-12-27 23:13:00                0\n",
      "23760 2018-12-27 23:16:00                0\n",
      "23761 2018-12-27 23:18:00                0\n",
      "23762 2018-12-28 12:58:00                0\n",
      "\n",
      "[23763 rows x 2 columns]\n"
     ]
    }
   ],
   "source": [
    "# Convert the \"Date/Time\" column in CSV to datetime format\n",
    "df_csv['Timestamp'] = pd.to_datetime(df_csv['Date/Time'], format='%d-%b-%y %H:%M:%S.%f')\n",
    "df_csv['Minute_Timestamp'] = df_csv['Timestamp'].dt.floor('T')\n",
    "\n",
    "# Sum the four columns for discharge types to get total discharges per minute in CSV data\n",
    "df_csv['Discharge_Count'] = df_csv[[' CG+  Radius 5 km', ' CG-  Radius 5 km', ' IC+  Radius 5 km', ' IC-  Radius 5 km']].sum(axis=1)\n",
    "\n",
    "# Aggregate by minute and select relevant columns\n",
    "csv_minute_discharge_counts = df_csv.groupby('Minute_Timestamp')['Discharge_Count'].sum().reset_index()\n",
    "\n",
    "#print(parquet_minute_discharge_counts)\n",
    "print(\"\\nCSV Data (Minute - Number of Discharges):\")\n",
    "print(csv_minute_discharge_counts)\n"
   ]
  },
  {
   "cell_type": "markdown",
   "metadata": {},
   "source": [
    "### Table \"minute - Number of discharges\" for WWLLN and Lightning Detector (2)"
   ]
  },
  {
   "cell_type": "code",
   "execution_count": 16,
   "metadata": {},
   "outputs": [],
   "source": [
    "# Convert time-related columns in parquet data to integer\n",
    "df[['Year', 'Month', 'Day', 'Hour', 'Minute', 'Second']] = df[['Year', 'Month', 'Day', 'Hour', 'Minute', 'Second']].astype(int)\n",
    "\n",
    "# Create a full timestamp for the parquet data\n",
    "df['Timestamp'] = pd.to_datetime(df[['Year', 'Month', 'Day', 'Hour', 'Minute', 'Second']])\n",
    "df['Minute_Timestamp'] = df['Timestamp'].dt.floor('T')  # Floor to nearest minute\n",
    "parquet_minute_discharge_counts = df.groupby('Minute_Timestamp').size().reset_index(name='Discharge_Count')"
   ]
  },
  {
   "cell_type": "code",
   "execution_count": 17,
   "metadata": {},
   "outputs": [
    {
     "name": "stdout",
     "output_type": "stream",
     "text": [
      "\n",
      "Combined Data (Minute - Number of Discharges from CSV - Number of Discharges from Parquet):\n",
      "     Minute_Timestamp  Parquet_Discharge_Count  CSV_Discharge_Count\n",
      "0 2018-01-01 19:51:00                       17                    0\n",
      "1 2018-01-01 19:52:00                       14                    0\n"
     ]
    }
   ],
   "source": [
    "import pandas as pd\n",
    "\n",
    "# Assuming you already have the parquet_minute_discharge_counts DataFrame\n",
    "# and csv_minute_discharge_counts from the code above.\n",
    "\n",
    "# Ensure the Parquet data has 'Minute_Timestamp' column\n",
    "parquet_minute_discharge_counts.rename(columns={'Discharge_Count': 'Parquet_Discharge_Count'}, inplace=True)\n",
    "csv_minute_discharge_counts.rename(columns={'Discharge_Count': 'CSV_Discharge_Count'}, inplace=True)\n",
    "\n",
    "# Find the time range in the Parquet data\n",
    "time_min, time_max = parquet_minute_discharge_counts['Minute_Timestamp'].min(), parquet_minute_discharge_counts['Minute_Timestamp'].max()\n",
    "\n",
    "# Filter the CSV data to match the Parquet data time range\n",
    "csv_minute_discharge_counts_filtered = csv_minute_discharge_counts[\n",
    "    (csv_minute_discharge_counts['Minute_Timestamp'] >= time_min) &\n",
    "    (csv_minute_discharge_counts['Minute_Timestamp'] <= time_max)\n",
    "]\n",
    "\n",
    "# Merge the CSV and Parquet data on the 'Minute_Timestamp' column\n",
    "combined_discharge_counts = pd.merge(\n",
    "    parquet_minute_discharge_counts,\n",
    "    csv_minute_discharge_counts_filtered,\n",
    "    on='Minute_Timestamp',\n",
    "    how='inner'\n",
    ")\n",
    "\n",
    "# Print the combined table\n",
    "print(\"\\nCombined Data (Minute - Number of Discharges from CSV - Number of Discharges from Parquet):\")\n",
    "print(combined_discharge_counts)\n"
   ]
  },
  {
   "cell_type": "code",
   "execution_count": null,
   "metadata": {},
   "outputs": [],
   "source": [
    "import pandas as pd\n",
    "import matplotlib.pyplot as plt\n",
    "\n",
    "# Load parquet data\n",
    "df = pd.read_parquet('F:/2024_Lightning_Analysis/FY-2E_data/data_extracted/2018_part_0_small_ALL_data_with_lightning.parquet')\n",
    "\n",
    "# Convert time-related columns in parquet data to integer\n",
    "df[['Year', 'Month', 'Day', 'Hour', 'Minute', 'Second']] = df[['Year', 'Month', 'Day', 'Hour', 'Minute', 'Second']].astype(int)\n",
    "\n",
    "# Create a full timestamp for the parquet data\n",
    "df['Timestamp'] = pd.to_datetime(df[['Year', 'Month', 'Day', 'Hour', 'Minute', 'Second']])\n",
    "df['Minute_Timestamp'] = df['Timestamp'].dt.floor('T')  # Floor to nearest minute\n",
    "parquet_minute_discharge_counts = df.groupby('Minute_Timestamp').size().reset_index(name='Discharge_Count')\n",
    "\n",
    "# Load CSV data\n",
    "df_csv = pd.read_csv('your_csv_path_here.csv')\n",
    "\n",
    "# Convert the \"Date/Time\" column in CSV to datetime format\n",
    "df_csv['Timestamp'] = pd.to_datetime(df_csv['Date/Time'], format='%d-%b-%y %H:%M:%S.%f')\n",
    "df_csv['Minute_Timestamp'] = df_csv['Timestamp'].dt.floor('T')\n",
    "\n",
    "# Sum the four columns for discharge types to get total discharges per minute in CSV data\n",
    "df_csv['Discharge_Count'] = df_csv[['CG+  Radius 5 km', 'CG-  Radius 5 km', 'IC+  Radius 5 km', 'IC-  Radius 5 km']].sum(axis=1)\n",
    "\n",
    "# Aggregate by minute and select relevant columns\n",
    "csv_minute_discharge_counts = df_csv.groupby('Minute_Timestamp')['Discharge_Count'].sum().reset_index()\n",
    "\n",
    "# Filter CSV data to only include timestamps within the parquet data range\n",
    "time_min, time_max = parquet_minute_discharge_counts['Minute_Timestamp'].min(), parquet_minute_discharge_counts['Minute_Timestamp'].max()\n",
    "csv_minute_discharge_counts = csv_minute_discharge_counts[(csv_minute_discharge_counts['Minute_Timestamp'] >= time_min) & \n",
    "                                                          (csv_minute_discharge_counts['Minute_Timestamp'] <= time_max)]\n",
    "\n",
    "# Print both tables\n",
    "print(\"Parquet Data (Minute - Number of Discharges):\")\n",
    "print(parquet_minute_discharge_counts)\n",
    "print(\"\\nCSV Data (Minute - Number of Discharges):\")\n",
    "print(csv_minute_discharge_counts)\n",
    "\n",
    "# Plot both data sources on the same graph\n",
    "plt.figure(figsize=(12, 6))\n",
    "plt.plot(parquet_minute_discharge_counts['Minute_Timestamp'], parquet_minute_discharge_counts['Discharge_Count'], label='Parquet Data', color='blue', alpha=0.7)\n",
    "plt.plot(csv_minute_discharge_counts['Minute_Timestamp'], csv_minute_discharge_counts['Discharge_Count'], label='CSV Data', color='orange', alpha=0.7)\n",
    "\n",
    "# Label the plot\n",
    "plt.xlabel('Minute Timestamp')\n",
    "plt.ylabel('Number of Discharges')\n",
    "plt.title('Comparison of Discharges per Minute (Parquet vs. CSV Data)')\n",
    "plt.legend()\n",
    "plt.grid(True)\n",
    "\n",
    "# Display the plot\n",
    "plt.show()\n"
   ]
  }
 ],
 "metadata": {
  "kernelspec": {
   "display_name": "base",
   "language": "python",
   "name": "python3"
  },
  "language_info": {
   "codemirror_mode": {
    "name": "ipython",
    "version": 3
   },
   "file_extension": ".py",
   "mimetype": "text/x-python",
   "name": "python",
   "nbconvert_exporter": "python",
   "pygments_lexer": "ipython3",
   "version": "3.9.13"
  }
 },
 "nbformat": 4,
 "nbformat_minor": 2
}
