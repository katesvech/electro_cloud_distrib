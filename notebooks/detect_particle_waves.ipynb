{
 "cells": [
  {
   "cell_type": "markdown",
   "metadata": {},
   "source": [
    "# TGE detection\n",
    "The aim of this notebook is to develop an algorithm of detection TGE in Aragats data, namely \"STAND3 coincidence 1000\" series.\n",
    "\n",
    "Requirements for running: a csv file with \"timestamp\" and \"stand3_coincidence_1000\" in ./data/Aragats/ folder."
   ]
  },
  {
   "cell_type": "code",
   "execution_count": null,
   "metadata": {},
   "outputs": [],
   "source": [
    "import pandas as pd\n",
    "import numpy as np\n",
    "import plotly.graph_objects as go"
   ]
  },
  {
   "cell_type": "markdown",
   "metadata": {},
   "source": [
    "## Load and plot data"
   ]
  },
  {
   "cell_type": "code",
   "execution_count": null,
   "metadata": {},
   "outputs": [],
   "source": [
    "stand3_1000_df = pd.read_csv(\"../data/Aragats/stand3_coincidence_1000.csv\")"
   ]
  },
  {
   "cell_type": "code",
   "execution_count": null,
   "metadata": {},
   "outputs": [],
   "source": [
    "stand3_1000_df.head() "
   ]
  },
  {
   "cell_type": "code",
   "execution_count": null,
   "metadata": {},
   "outputs": [],
   "source": [
    "fig = go.Figure()\n",
    "raw_data = go.Scatter(\n",
    "    x=stand3_1000_df.timestamp,\n",
    "    y=stand3_1000_df.STAND3_coincidence_1000,\n",
    "    mode=\"lines\",\n",
    "    name=\"raw data\"\n",
    "    )\n",
    "fig.add_traces(raw_data)\n",
    "fig.update_layout(\n",
    "    width=1200,\n",
    "    height=700,\n",
    "    title=\"STAND3 coincidence 1000\"\n",
    ")\n",
    "fig.show()"
   ]
  },
  {
   "cell_type": "markdown",
   "metadata": {},
   "source": [
    "## Smooth data"
   ]
  },
  {
   "cell_type": "code",
   "execution_count": null,
   "metadata": {},
   "outputs": [],
   "source": [
    "def gaussian_weights(window_size, sigma):\n",
    "    \"\"\"\n",
    "    Generate Gaussian weights for a given window size and standard deviation.\n",
    "    \n",
    "    Args:\n",
    "    - window_size (int): The size of the moving window (must be odd).\n",
    "    - sigma (float): The standard deviation of the Gaussian function.\n",
    "    \n",
    "    Returns:\n",
    "    - weights (numpy array): Array of Gaussian weights.\n",
    "    \"\"\"\n",
    "    # Create a range of indices centered around 0\n",
    "    half_window = window_size // 2\n",
    "    x = np.arange(-half_window, half_window + 1)\n",
    "    \n",
    "    # Compute the Gaussian weights\n",
    "    weights = np.exp(-0.5 * (x / sigma) ** 2)\n",
    "    \n",
    "    # Normalize the weights so that they sum to 1\n",
    "    weights /= np.sum(weights)\n",
    "    \n",
    "    return weights\n",
    "\n",
    "def gaussian_moving_average(time_series, window_size, sigma):\n",
    "    \"\"\"\n",
    "    Compute the moving average of a time series with Gaussian weights.\n",
    "    \n",
    "    Args:\n",
    "    - time_series (array-like): The time series to smooth.\n",
    "    - window_size (int): The size of the moving window (must be odd).\n",
    "    - sigma (float): The standard deviation of the Gaussian function.\n",
    "    \n",
    "    Returns:\n",
    "    - smoothed_series (numpy array): The smoothed time series.\n",
    "    \"\"\"\n",
    "    # Convert the time series to a numpy array\n",
    "    time_series = np.array(time_series)\n",
    "    n = len(time_series)\n",
    "    \n",
    "    # Get Gaussian weights\n",
    "    weights = gaussian_weights(window_size, sigma)\n",
    "    \n",
    "    # Initialize the output array\n",
    "    smoothed_series = np.zeros_like(time_series)\n",
    "    \n",
    "    # Apply the moving average with Gaussian weights\n",
    "    half_window = window_size // 2\n",
    "    for i in range(n):\n",
    "        # Define the window range\n",
    "        start_idx = max(i - half_window, 0)\n",
    "        end_idx = min(i + half_window + 1, n)\n",
    "        \n",
    "        # Get the corresponding slice of the time series\n",
    "        window = time_series[start_idx:end_idx]\n",
    "        \n",
    "        # Get the Gaussian weights for the valid window\n",
    "        valid_weights = weights[half_window - (i - start_idx):half_window + (end_idx - i)]\n",
    "        \n",
    "        # Compute the weighted average\n",
    "        smoothed_series[i] = np.sum(window * valid_weights[:len(window)])  # Slice valid_weights to match window size\n",
    "    \n",
    "    return smoothed_series\n"
   ]
  },
  {
   "cell_type": "code",
   "execution_count": null,
   "metadata": {},
   "outputs": [],
   "source": [
    "window_size = 61  # Odd number for symmetric window\n",
    "sigma = 6.0  # Standard deviation for the Gaussian kernel\n",
    "\n",
    "stand3_1000_df[\"gaussian_smoothed\"] = gaussian_moving_average(stand3_1000_df.STAND3_coincidence_1000, window_size, sigma)"
   ]
  },
  {
   "cell_type": "code",
   "execution_count": null,
   "metadata": {},
   "outputs": [],
   "source": [
    "fig = go.Figure()\n",
    "raw_data = go.Scatter(\n",
    "    x=stand3_1000_df.timestamp,\n",
    "    y=stand3_1000_df.STAND3_coincidence_1000,\n",
    "    mode=\"lines\",\n",
    "    name=\"raw data\"\n",
    "    )\n",
    "smoothed_data_gauss = go.Scatter(\n",
    "    x=stand3_1000_df.timestamp,\n",
    "    y=stand3_1000_df.gaussian_smoothed,\n",
    "    mode=\"lines\",\n",
    "    name=\"gauss smoothing\"\n",
    "    )\n",
    "fig.add_traces(raw_data)\n",
    "fig.add_traces(smoothed_data_gauss)\n",
    "fig.update_layout(\n",
    "    width=1200,\n",
    "    height=700,\n",
    "    title=\"STAND3 coincidence 1000\"\n",
    ")\n",
    "fig.show()"
   ]
  },
  {
   "cell_type": "code",
   "execution_count": null,
   "metadata": {},
   "outputs": [],
   "source": [
    "def find_extrema(time_series):\n",
    "    \"\"\"\n",
    "    Identify local maxima and minima in a time series.\n",
    "    \n",
    "    Args:\n",
    "    - time_series (array-like): The time series to analyze.\n",
    "    \n",
    "    Returns:\n",
    "    - maxima (list): Indices of local maxima.\n",
    "    - minima (list): Indices of local minima.\n",
    "    \"\"\"\n",
    "    time_series = np.array(time_series)\n",
    "    n = len(time_series)\n",
    "    \n",
    "    # Lists to store indices of local maxima and minima\n",
    "    maxima = []\n",
    "    minima = []\n",
    "    \n",
    "    # Loop through the time series to find extrema\n",
    "    for i in range(1, n - 1):\n",
    "        # Local Maximum Condition: time_series[i] > time_series[i-1] and time_series[i] > time_series[i+1]\n",
    "        if time_series[i] > time_series[i - 1] and time_series[i] > time_series[i + 1]:\n",
    "            maxima.append(i)\n",
    "        \n",
    "        # Local Minimum Condition: time_series[i] < time_series[i-1] and time_series[i] < time_series[i+1]\n",
    "        elif time_series[i] < time_series[i - 1] and time_series[i] < time_series[i + 1]:\n",
    "            minima.append(i)\n",
    "    \n",
    "    return maxima, minima\n",
    "\n",
    "def mark_extrema(time_series):\n",
    "    \"\"\"\n",
    "    Mark the local maxima and minima in a time series by returning a list with flags.\n",
    "    A positive value indicates a local maximum, and a negative value indicates a local minimum.\n",
    "    \n",
    "    Args:\n",
    "    - time_series (array-like): The time series to analyze.\n",
    "    \n",
    "    Returns:\n",
    "    - marked_series (list): A list where 1 indicates local maxima, -1 indicates local minima, and 0 otherwise.\n",
    "    \"\"\"\n",
    "    maxima, minima = find_extrema(time_series)\n",
    "    \n",
    "    # Create an array to mark the extrema\n",
    "    marked_series = np.zeros(len(time_series), dtype=int)\n",
    "    \n",
    "    # Mark the local maxima\n",
    "    for max_idx in maxima:\n",
    "        marked_series[max_idx] = 1\n",
    "    \n",
    "    # Mark the local minima\n",
    "    for min_idx in minima:\n",
    "        marked_series[min_idx] = -1\n",
    "    \n",
    "    return marked_series"
   ]
  },
  {
   "cell_type": "code",
   "execution_count": null,
   "metadata": {},
   "outputs": [],
   "source": [
    "stand3_1000_df[\"extrema\"] = mark_extrema(stand3_1000_df.gaussian_smoothed)"
   ]
  },
  {
   "cell_type": "code",
   "execution_count": null,
   "metadata": {},
   "outputs": [],
   "source": [
    "stand3_1000_df[\"min_points\"] = [stand3_1000_df.gaussian_smoothed[i] if stand3_1000_df.extrema[i] < 0 else np.nan for i in stand3_1000_df.index]"
   ]
  },
  {
   "cell_type": "code",
   "execution_count": null,
   "metadata": {},
   "outputs": [],
   "source": [
    "def assign_interval_serial_numbers(time_series):\n",
    "    \"\"\"\n",
    "    Assign serial numbers to intervals defined by consecutive local minima in a time series.\n",
    "    \n",
    "    Args:\n",
    "    - time_series (array-like): The time series to analyze.\n",
    "    \n",
    "    Returns:\n",
    "    - df (pandas DataFrame): A DataFrame with the original time series and a serial number column.\n",
    "    \"\"\"\n",
    "    # Find the local minima\n",
    "    _, minima = find_extrema(time_series)\n",
    "    #print(minima)\n",
    "\n",
    "    # Create a column for the serial number of the intervals\n",
    "    interval_serials = np.zeros(len(time_series), dtype=int)\n",
    "    # Assign serial numbers based on intervals between local minima\n",
    "    serial_number = 1\n",
    "    for i in range(1, len(minima)):\n",
    "\n",
    "        # Get the interval between consecutive minima\n",
    "        start_idx = minima[i - 1]\n",
    "        end_idx = minima[i]\n",
    "        \n",
    "        # Assign the serial number to all points in this interval\n",
    "        interval_serials[start_idx:end_idx] = serial_number\n",
    "        serial_number += 1\n",
    "    return interval_serials"
   ]
  },
  {
   "cell_type": "code",
   "execution_count": null,
   "metadata": {},
   "outputs": [],
   "source": [
    "stand3_1000_df[\"interval_number\"] = assign_interval_serial_numbers(stand3_1000_df.gaussian_smoothed)"
   ]
  },
  {
   "cell_type": "code",
   "execution_count": null,
   "metadata": {},
   "outputs": [],
   "source": [
    "interval_df = stand3_1000_df.groupby(\"interval_number\")[\"STAND3_coincidence_1000\"].agg([\"max\", \"min\"])\n",
    "threshold = 0.1\n",
    "interval_df[\"min_max_diff\"] = interval_df[\"max\"]/interval_df[\"min\"] >= 1 + threshold\n",
    "interval_df_10_percents = interval_df[interval_df[\"min_max_diff\"]]"
   ]
  },
  {
   "cell_type": "code",
   "execution_count": null,
   "metadata": {},
   "outputs": [],
   "source": [
    "len(interval_df_10_percents)"
   ]
  },
  {
   "cell_type": "code",
   "execution_count": null,
   "metadata": {},
   "outputs": [],
   "source": [
    "interval_df_10_percents.index[40:60]"
   ]
  },
  {
   "cell_type": "code",
   "execution_count": null,
   "metadata": {},
   "outputs": [],
   "source": [
    "# Example interval\n",
    "sample = stand3_1000_df[stand3_1000_df.interval_number.isin([5411])]"
   ]
  },
  {
   "cell_type": "code",
   "execution_count": null,
   "metadata": {},
   "outputs": [],
   "source": [
    "fig = go.Figure()\n",
    "raw_data = go.Scatter(\n",
    "    x=sample.timestamp,\n",
    "    y=sample.STAND3_coincidence_1000,\n",
    "    mode=\"lines\",\n",
    "    name=\"raw data\",\n",
    "    )\n",
    "markers = go.Scatter(\n",
    "    x=sample.timestamp,\n",
    "    y=sample.min_points,\n",
    "    mode=\"markers\",\n",
    "    name=\"interval borders\",\n",
    "    )\n",
    "smoothed_data_gauss = go.Scatter(\n",
    "    x=sample.timestamp,\n",
    "    y=sample.gaussian_smoothed,\n",
    "    mode=\"lines\",\n",
    "    name=\"double gauss smooth\"\n",
    "    )\n",
    "fig.add_traces(raw_data)\n",
    "fig.add_traces(markers)\n",
    "fig.add_traces(smoothed_data_gauss)\n",
    "fig.update_layout(\n",
    "    width=1200,\n",
    "    height=700,\n",
    "    title=\"STAND3 coincidence 1000\"\n",
    ")\n",
    "fig.show()"
   ]
  }
 ],
 "metadata": {
  "kernelspec": {
   "display_name": ".venv",
   "language": "python",
   "name": "python3"
  },
  "language_info": {
   "codemirror_mode": {
    "name": "ipython",
    "version": 3
   },
   "file_extension": ".py",
   "mimetype": "text/x-python",
   "name": "python",
   "nbconvert_exporter": "python",
   "pygments_lexer": "ipython3",
   "version": "3.10.12"
  }
 },
 "nbformat": 4,
 "nbformat_minor": 2
}
